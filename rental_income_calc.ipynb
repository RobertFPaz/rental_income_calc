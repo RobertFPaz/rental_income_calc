{
 "cells": [
  {
   "cell_type": "code",
   "execution_count": null,
   "id": "9e8a3192",
   "metadata": {},
   "outputs": [
    {
     "name": "stdout",
     "output_type": "stream",
     "text": [
      "Use my calculator to determine cash on cash ROI.\n"
     ]
    }
   ],
   "source": [
    "class RentalIncomeCalc():\n",
    "            \n",
    "    def __init__(self, income = 0 , expenses = 0, investment = 0, cash_flow = 0):\n",
    "        self.income = income\n",
    "        self.expenses = expenses\n",
    "        self.investment = investment\n",
    "        self.cash_flow = cash_flow\n",
    "        \n",
    "#   Helper function to add up inputs and create dictionary. \n",
    "    def amounts_sum(self, category):\n",
    "        dict = {}\n",
    "        sum = 0\n",
    "        while True:\n",
    "            input_cat = input(f\"Add an {category} category. (enter 'x' to exit ) \")\n",
    "            if input_cat.lower() != 'x':\n",
    "                amount = input(f'How much do you estimate the {category} to be? ')\n",
    "                dict[input_cat] = int(amount)\n",
    "            else:\n",
    "                print(f\"Here is an {category} summary.\")\n",
    "                for key,value in dict.items():\n",
    "                    print(f\"{key} ${value}\")\n",
    "                    sum += value\n",
    "                print(f\"Your total {category} = ${sum}\")\n",
    "                return sum\n",
    "        \n",
    "    def income_calc(self, category):\n",
    "        print(\"Let's calculate property income.\")\n",
    "        self.income = self.amounts_sum(category)\n",
    "        \n",
    "    def expenses_calc(self, category):\n",
    "        print(\"Let's calculate property expenses.\")\n",
    "        self.expenses = self.amounts_sum(category)\n",
    "        \n",
    "    def monthly_cash_flow(self):\n",
    "        if self.income == 0 or self.expenses == 0:\n",
    "            print(\"You must first enter both income and expenses to calculate monthly cash flow.\")\n",
    "        else:\n",
    "            self.cash_flow = (self.income - self.expenses) * 12  #Multiply by 12 for annual cash flow.\n",
    "            print(f\"Your montly cash flow is ${self.income - self.expenses}.\")\n",
    "    def investment_cost(self,category):\n",
    "        print(\"Let's calculate your property investment cost.\")\n",
    "        self.investment = self.amounts_sum(category)\n",
    "    def cash_cash_roi(self):\n",
    "        if self.investment == 0 or self.cash_flow == 0:\n",
    "            print(\"You must first calculate cash flow and enter investments.\")\n",
    "        else:\n",
    "            annual_roi = round((self.cash_flow/self.investment) * 100, 2)\n",
    "            print( f\"Your cash on cash return on investment is {annual_roi}%.\")\n",
    "        \n",
    "my_property = RentalIncomeCalc()\n",
    "\n",
    "def my_roi():\n",
    "    print(\"Use my calculator to determine cash on cash ROI.\")\n",
    "    while True:\n",
    "        action = input(\"Select a calculation by typing: income/expenses/cash flow/investment or ROI. (enter 'x' to exit) \")\n",
    "        if action.lower() == \"income\":\n",
    "            my_property.income_calc(action.lower())\n",
    "        elif action.lower() == 'expenses':\n",
    "            my_property.expenses_calc(action.lower())\n",
    "        elif action.lower() == 'cash flow':\n",
    "            my_property.monthly_cash_flow()\n",
    "        elif action.lower() == 'investment':\n",
    "            my_property.investment_cost(action.lower())\n",
    "        elif action.lower() == 'roi':\n",
    "            my_property.cash_cash_roi()\n",
    "        elif action.lower() == 'x':\n",
    "            print(\" Thanks for visiting! I hope you found this ROI calculator helpful.\")\n",
    "            break\n",
    "        else:\n",
    "            print(\"You did not enter a valid action.\")\n",
    "                      \n",
    "my_roi()\n",
    "                    \n",
    "        \n",
    "        "
   ]
  },
  {
   "cell_type": "code",
   "execution_count": null,
   "id": "6baa06a5",
   "metadata": {},
   "outputs": [],
   "source": []
  }
 ],
 "metadata": {
  "kernelspec": {
   "display_name": "Python 3 (ipykernel)",
   "language": "python",
   "name": "python3"
  },
  "language_info": {
   "codemirror_mode": {
    "name": "ipython",
    "version": 3
   },
   "file_extension": ".py",
   "mimetype": "text/x-python",
   "name": "python",
   "nbconvert_exporter": "python",
   "pygments_lexer": "ipython3",
   "version": "3.9.12"
  }
 },
 "nbformat": 4,
 "nbformat_minor": 5
}
